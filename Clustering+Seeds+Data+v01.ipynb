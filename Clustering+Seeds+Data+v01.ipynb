{
 "cells": [
  {
   "cell_type": "markdown",
   "metadata": {},
   "source": [
    "This exercise is to cluster seeds according to a 1-NN algorithm, using holdout sets to create training and test data."
   ]
  },
  {
   "cell_type": "markdown",
   "metadata": {},
   "source": [
    "# Script"
   ]
  },
  {
   "cell_type": "code",
   "execution_count": 1,
   "metadata": {
    "collapsed": true
   },
   "outputs": [],
   "source": [
    "import os\n",
    "import pandas as pd\n",
    "import numpy as np\n",
    "import math\n",
    "import sys\n",
    "import matplotlib.pyplot as plt\n",
    "import requests as req\n",
    "from io import StringIO\n",
    "from scipy.spatial.distance import euclidean\n",
    "from sklearn.model_selection import train_test_split\n",
    "from sklearn.preprocessing import normalize\n",
    "from matplotlib.colors import ListedColormap\n",
    "% matplotlib inline"
   ]
  },
  {
   "cell_type": "code",
   "execution_count": 2,
   "metadata": {
    "collapsed": true
   },
   "outputs": [],
   "source": [
    "#set number of folds for cross validation\n",
    "num_folds=5\n",
    "\n",
    "#URL data source\n",
    "url = 'https://raw.github.com/luispedro/BuildingMachineLearningSystemsWithPython/master/ch02/data/seeds.tsv'"
   ]
  },
  {
   "cell_type": "code",
   "execution_count": null,
   "metadata": {
    "collapsed": true
   },
   "outputs": [],
   "source": [
    "#Store data in a StringIO object which mimics a file\n",
    "response = req.get(url)\n",
    "bytesstr = response.content\n",
    "sio = StringIO()\n",
    "sio.write(bytesstr.decode(response.encoding))\n",
    "sio.seek(0)"
   ]
  },
  {
   "cell_type": "code",
   "execution_count": 3,
   "metadata": {
    "collapsed": true
   },
   "outputs": [],
   "source": [
    "#Temporary code to read from local file\n",
    "data = []\n",
    "target = []\n",
    "with open('seeds.tsv','r') as sio:\n",
    "    lines = [line.strip() for line in sio.readlines()]\n",
    "for line in lines:\n",
    "    tokens = line.split('\\t')\n",
    "    target.append(tokens[-1])\n",
    "    data.append([float(t) for t in tokens[:-1]])\n",
    "X = normalize(np.array(data)) #Store normalised features as X\n",
    "Y = np.array(target) #Store labels/targets as Y"
   ]
  },
  {
   "cell_type": "code",
   "execution_count": null,
   "metadata": {
    "collapsed": true
   },
   "outputs": [],
   "source": [
    "#Read the features and label into an array each\n",
    "data = []\n",
    "target = []\n",
    "lines = [line.strip() for line in sio.readlines()]\n",
    "for line in lines:\n",
    "    tokens = line.split('\\t')\n",
    "    target.append(tokens[-1])\n",
    "    data.append([float(t) for t in tokens[:-1]])\n",
    "X = normalize(np.array(data)) #Store features as X\n",
    "Y = np.array(target) #Store labels/targets as Y"
   ]
  },
  {
   "cell_type": "code",
   "execution_count": 4,
   "metadata": {
    "collapsed": true
   },
   "outputs": [],
   "source": [
    "#returns the label of the nearest neighbour\n",
    "def get_nearest_neighbour(test_point,train_features,train_labels):\n",
    "    distances = [euclidean(test_point,tf) for tf in train_features]\n",
    "    closest = np.array(distances).argmin()\n",
    "    return train_labels[closest]"
   ]
  },
  {
   "cell_type": "code",
   "execution_count": 28,
   "metadata": {},
   "outputs": [
    {
     "data": {
      "text/plain": [
       "([0.9285714285714286,\n",
       "  0.9285714285714286,\n",
       "  0.88095238095238093,\n",
       "  0.8571428571428571,\n",
       "  0.95238095238095233],\n",
       " 'Mean accuracy is 0.9095')"
      ]
     },
     "execution_count": 28,
     "metadata": {},
     "output_type": "execute_result"
    }
   ],
   "source": [
    "#across each holdout set calculate model accuracy\n",
    "import pdb\n",
    "NNs = []\n",
    "model_accuracies = []\n",
    "for fold in range(num_folds):\n",
    "    #pdb.set_trace()\n",
    "    X_train, X_test, Y_train, Y_test = train_test_split(X,Y,test_size=1.0/num_folds)\n",
    "    NNs = [get_nearest_neighbour(data_point,X_train,Y_train) for data_point in X_test]\n",
    "    accuracy =[1 if nn==y_tst else 0 for nn, y_tst in zip(NNs,Y_test)]\n",
    "    model_accuracies.append(np.mean(accuracy))\n",
    "model_accuracies, 'Mean accuracy is %4.4f' % np.mean(model_accuracies)"
   ]
  },
  {
   "cell_type": "markdown",
   "metadata": {},
   "source": [
    "Let's have a look at a plot of nearest-neighbour using two dimensions, say compactness and area, indexed by 0 and 2 respectively in the data "
   ]
  },
  {
   "cell_type": "code",
   "execution_count": 29,
   "metadata": {
    "collapsed": true
   },
   "outputs": [],
   "source": [
    "#Create a dataframe to store the data for plotting and a meshgrid to plot NN algorithm\n",
    "df = pd.DataFrame(data)\n",
    "df = df[[0,2]].rename(columns={0:'area',2:'compactness'})\n",
    "#Identify the minimum and maximum and use these plus a margin for the plot range\n",
    "xmin, ymin = df.apply(min,axis=0)\n",
    "xmax, ymax = df.apply(max,axis=0)\n",
    "X = np.linspace(xmin*0.9,xmax*1.1,100)\n",
    "Y = np.linspace(ymin*0.9,ymax*1.1,100)\n",
    "X,Y = np.meshgrid(X,Y)"
   ]
  },
  {
   "cell_type": "code",
   "execution_count": 30,
   "metadata": {
    "scrolled": true
   },
   "outputs": [
    {
     "ename": "TypeError",
     "evalue": "list indices must be integers or slices, not tuple",
     "output_type": "error",
     "traceback": [
      "\u001b[0;31m---------------------------------------------------------------------------\u001b[0m",
      "\u001b[0;31mTypeError\u001b[0m                                 Traceback (most recent call last)",
      "\u001b[0;32m<ipython-input-30-81d4594642d9>\u001b[0m in \u001b[0;36m<module>\u001b[0;34m()\u001b[0m\n\u001b[1;32m      2\u001b[0m \u001b[0mgridvals\u001b[0m \u001b[0;34m=\u001b[0m \u001b[0mnp\u001b[0m\u001b[0;34m.\u001b[0m\u001b[0mvstack\u001b[0m\u001b[0;34m(\u001b[0m\u001b[0;34m[\u001b[0m\u001b[0mX\u001b[0m\u001b[0;34m.\u001b[0m\u001b[0mravel\u001b[0m\u001b[0;34m(\u001b[0m\u001b[0;34m)\u001b[0m\u001b[0;34m,\u001b[0m\u001b[0mY\u001b[0m\u001b[0;34m.\u001b[0m\u001b[0mravel\u001b[0m\u001b[0;34m(\u001b[0m\u001b[0;34m)\u001b[0m\u001b[0;34m]\u001b[0m\u001b[0;34m)\u001b[0m\u001b[0;34m.\u001b[0m\u001b[0mT\u001b[0m\u001b[0;34m\u001b[0m\u001b[0m\n\u001b[1;32m      3\u001b[0m \u001b[0;31m#create a set of points to plot\u001b[0m\u001b[0;34m\u001b[0m\u001b[0;34m\u001b[0m\u001b[0m\n\u001b[0;32m----> 4\u001b[0;31m \u001b[0mplt_features\u001b[0m \u001b[0;34m=\u001b[0m \u001b[0mdata\u001b[0m\u001b[0;34m[\u001b[0m\u001b[0;34m:\u001b[0m\u001b[0;34m,\u001b[0m\u001b[0;34m(\u001b[0m\u001b[0;36m0\u001b[0m\u001b[0;34m,\u001b[0m\u001b[0;36m2\u001b[0m\u001b[0;34m)\u001b[0m\u001b[0;34m]\u001b[0m\u001b[0;34m\u001b[0m\u001b[0m\n\u001b[0m\u001b[1;32m      5\u001b[0m \u001b[0;31m#use every point in the seeds set as a training point\u001b[0m\u001b[0;34m\u001b[0m\u001b[0;34m\u001b[0m\u001b[0m\n\u001b[1;32m      6\u001b[0m \u001b[0mall_train\u001b[0m \u001b[0;34m=\u001b[0m \u001b[0;34m[\u001b[0m\u001b[0;32mTrue\u001b[0m \u001b[0;32mfor\u001b[0m \u001b[0mdp\u001b[0m \u001b[0;32min\u001b[0m \u001b[0mdata\u001b[0m\u001b[0;34m]\u001b[0m\u001b[0;34m\u001b[0m\u001b[0m\n",
      "\u001b[0;31mTypeError\u001b[0m: list indices must be integers or slices, not tuple"
     ]
    }
   ],
   "source": [
    "#create a set of coordinates\n",
    "gridvals = np.vstack([X.ravel(),Y.ravel()]).T\n",
    "#create a set of points to plot\n",
    "plt_features = data[:,(0,2)]\n",
    "#use every point in the seeds set as a training point\n",
    "all_train = [True for dp in data]\n",
    "predictions = [get_nearest_neighbour(dp, all_train,plt_features) for dp in gridvals]\n",
    "\n",
    "#set colour maps for existing features and predicted labels  \n",
    "feature_cmap = ListedColormap([(1., .0, .0), (.0, 1., .0), (.0, .0, 1.)])\n",
    "prediction_cmap = ListedColormap([(1., .6, .6), (.6, 1., .6), (.6, .6, 1.)])\n",
    "\n",
    "#map predictions to numeric labels for colormap\n",
    "colmapper = {'Canadian':1,'Kama':2,'Rosa':3}\n",
    "predicted_labels = list(map(colmapper.get,predictions))\n",
    "target_labels = list(map(colmapper.get,target))\n",
    "\n",
    "predicted_labels = np.array(predicted_labels).reshape(X.shape)"
   ]
  },
  {
   "cell_type": "code",
   "execution_count": 32,
   "metadata": {},
   "outputs": [
    {
     "data": {
      "text/plain": [
       "[15.26, 14.84, 0.871, 5.763, 3.312, 2.221, 5.22]"
      ]
     },
     "execution_count": 32,
     "metadata": {},
     "output_type": "execute_result"
    }
   ],
   "source": [
    "data[0]"
   ]
  },
  {
   "cell_type": "code",
   "execution_count": null,
   "metadata": {
    "collapsed": true
   },
   "outputs": [],
   "source": [
    "#Set up NN plots\n",
    "fig, ax = plt.subplots()\n",
    "ax.set_xlim(X.min(),X.max())\n",
    "ax.set_ylim(Y.min(),Y.max())\n",
    "ax.set_xlabel('Area')\n",
    "ax.set_ylabel('Compactness')\n",
    "#plot mesh and scatter\n",
    "ax.pcolormesh(X,Y,predicted_labels,cmap=prediction_cmap)\n",
    "ax.scatter(data[:, 0], data[:, 2], c=target_labels, cmap=feature_cmap)\n",
    "plt.show()"
   ]
  },
  {
   "cell_type": "code",
   "execution_count": null,
   "metadata": {
    "collapsed": true
   },
   "outputs": [],
   "source": [
    "#Normalise values and plot again\n",
    "norm_plt_features = (plt_features - plt_features.mean(axis=0))/plt_features.std(axis=0)"
   ]
  },
  {
   "cell_type": "code",
   "execution_count": null,
   "metadata": {
    "collapsed": true
   },
   "outputs": [],
   "source": [
    "#Recreate the grid values normalised\n",
    "df = pd.DataFrame(norm_plt_features)\n",
    "xmin, ymin = df.apply(min,axis=0)\n",
    "xmax, ymax = df.apply(max,axis=0)\n",
    "X = np.linspace(xmin*0.9,xmax*1.1,100)\n",
    "Y = np.linspace(ymin*0.9,ymax*1.1,100)\n",
    "X,Y = np.meshgrid(X,Y)\n",
    "gridvals = np.vstack([X.ravel(),Y.ravel()]).T"
   ]
  },
  {
   "cell_type": "code",
   "execution_count": null,
   "metadata": {
    "collapsed": true
   },
   "outputs": [],
   "source": [
    "#rerun predictions\n",
    "predictions = [get_nearest_neighbour(dp, all_train,norm_plt_features) for dp in gridvals]\n",
    "predicted_labels = list(map(colmapper.get,predictions))"
   ]
  },
  {
   "cell_type": "code",
   "execution_count": null,
   "metadata": {
    "collapsed": true
   },
   "outputs": [],
   "source": [
    "#Set up NN plots\n",
    "fig, ax = plt.subplots()\n",
    "ax.set_xlim(X.min(),X.max())\n",
    "ax.set_ylim(Y.min(),Y.max())\n",
    "ax.set_xlabel('Area')\n",
    "ax.set_ylabel('Compactness')\n",
    "#plot mesh and scatter\n",
    "ax.pcolormesh(X,Y,predicted_labels,cmap=prediction_cmap)\n",
    "ax.scatter(norm_plt_features[:, 0], norm_plt_features[:, 1], c=target_labels, cmap=feature_cmap)\n",
    "plt.show()"
   ]
  },
  {
   "cell_type": "markdown",
   "metadata": {},
   "source": [
    "# Visualisation\n",
    "This section plots the 1-NN algorithm above"
   ]
  },
  {
   "cell_type": "code",
   "execution_count": null,
   "metadata": {
    "collapsed": true
   },
   "outputs": [],
   "source": [
    "def plotNN(NN_function,Xfeature,Yfeature,Xname,Yname,target,predCMap,featCMap,colourmapper):\n",
    "    \n",
    "    #create grid values to plot\n",
    "    data = np.array([Xfeature,Yfeature]).T\n",
    "    df = pd.DataFrame(data)\n",
    "    try:\n",
    "        xmin, ymin = df.apply(min,axis=0)\n",
    "        xmax, ymax = df.apply(max,axis=0)\n",
    "        X = np.linspace(xmin*0.9,xmax*1.1,100)\n",
    "        Y = np.linspace(ymin*0.9,ymax*1.1,100)\n",
    "        X,Y = np.meshgrid(X,Y)\n",
    "        gridvals = np.vstack([X.ravel(),Y.ravel()]).T\n",
    "    except ValueError as e:\n",
    "        print(e)\n",
    "\n",
    "    #Use every point as a training point\n",
    "    all_train = [True for dp in data]\n",
    "    \n",
    "    #Predict nearest neighbour of each grid point\n",
    "    predictions = [NN_function(dp, all_train,data) for dp in gridvals]\n",
    "    \n",
    "    #Get numeric colour labels for predictions    \n",
    "    colour_labels = list(map(colourmapper.get,predictions))\n",
    "    #reshape labels to 2 dimensional grid for colormesh\n",
    "    colour_labels = np.array(colour_labels).reshape(X.shape)\n",
    "        \n",
    "    #Map target labels to colours\n",
    "    target_labels = list(map(colourmapper.get,target))\n",
    "    \n",
    "    #set up plot\n",
    "    fig, ax = plt.subplots()\n",
    "    ax.set_xlim(X.min(),X.max())\n",
    "    ax.set_ylim(Y.min(),Y.max())\n",
    "    ax.set_xlabel(Xname)\n",
    "    ax.set_ylabel(Yname)\n",
    "    \n",
    "    #plot mesh and scatter\n",
    "    ax.pcolormesh(X,Y,colour_labels,cmap=predCMap)\n",
    "    ax.scatter(Xfeature, Yfeature, c=target_labels, cmap=featCMap)\n",
    "    plt.show()"
   ]
  },
  {
   "cell_type": "code",
   "execution_count": null,
   "metadata": {
    "collapsed": true,
    "scrolled": false
   },
   "outputs": [],
   "source": [
    "plotNN(get_nearest_neighbour,data[:,0],data[:,2],'Area','Compactness',target,prediction_cmap,feature_cmap,colmapper)"
   ]
  },
  {
   "cell_type": "code",
   "execution_count": null,
   "metadata": {
    "collapsed": true
   },
   "outputs": [],
   "source": [
    "plt_features = data[:,(0,2)]\n",
    "norm_plt_features = (plt_features - plt_features.mean(axis=0))/plt_features.std(axis=0)\n",
    "plotNN(get_nearest_neighbour,norm_plt_features[:,0],norm_plt_features[:,1],'Area','Compactness',target, /\n",
    "       prediction_cmap,feature_cmap,colmapper)"
   ]
  }
 ],
 "metadata": {
  "kernelspec": {
   "display_name": "Python 3",
   "language": "python",
   "name": "python3"
  },
  "language_info": {
   "codemirror_mode": {
    "name": "ipython",
    "version": 3
   },
   "file_extension": ".py",
   "mimetype": "text/x-python",
   "name": "python",
   "nbconvert_exporter": "python",
   "pygments_lexer": "ipython3",
   "version": "3.6.3"
  }
 },
 "nbformat": 4,
 "nbformat_minor": 1
}
